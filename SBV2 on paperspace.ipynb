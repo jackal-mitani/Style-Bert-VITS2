{
 "cells": [
  {
   "cell_type": "code",
   "execution_count": null,
   "id": "efd3c2bb-6cf8-49ff-ac42-312d64a9bab6",
   "metadata": {},
   "outputs": [],
   "source": [
    "!pip install pickleshare\n",
    "\n",
    "import os\n",
    "\n",
    "os.environ[\"PATH\"] += \":/root/.cargo/bin\"\n",
    "\n",
    "!curl -LsSf https://astral.sh/uv/install.sh | sh\n",
    "!git clone https://github.com/jackal-mitani/Style-Bert-VITS2.git\n",
    "%cd /notebooks/Style-Bert-VITS2\n",
    "!uv venv venv\n",
    "\n",
    "!source venv/bin/activate\n",
    "!uv pip install --system -r requirements-colab.txt\n",
    "!uv pip install --system torch==2.1.0+cu118 torchvision==0.16.0+cu118 torchaudio --extra-index-url https://download.pytorch.org/whl/cu118 --index-strategy unsafe-best-match\n",
    "\n",
    "!python initialize.py --skip_default_models\n",
    "\n",
    "!python app.py"
   ]
  }
 ],
 "metadata": {
  "kernelspec": {
   "display_name": "Python 3 (ipykernel)",
   "language": "python",
   "name": "python3"
  },
  "language_info": {
   "codemirror_mode": {
    "name": "ipython",
    "version": 3
   },
   "file_extension": ".py",
   "mimetype": "text/x-python",
   "name": "python",
   "nbconvert_exporter": "python",
   "pygments_lexer": "ipython3",
   "version": "3.11.7"
  }
 },
 "nbformat": 4,
 "nbformat_minor": 5
}
